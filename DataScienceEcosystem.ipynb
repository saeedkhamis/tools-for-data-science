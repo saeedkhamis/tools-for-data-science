{
 "cells": [
  {
   "cell_type": "markdown",
   "id": "c8af6596-1efd-493c-8513-19b93c1533e0",
   "metadata": {},
   "source": [
    "# Data Science Tools and Ecosystem"
   ]
  },
  {
   "cell_type": "markdown",
   "id": "2063f4c2-6fe9-481b-bdbb-cd247dfa6e5d",
   "metadata": {
    "tags": []
   },
   "source": [
    "In this notebook, Data Science Tools and Ecosystem are summarized."
   ]
  },
  {
   "cell_type": "markdown",
   "id": "cf794f0c-65a3-427c-8b24-45f6373541ee",
   "metadata": {
    "tags": []
   },
   "source": [
    "**Objectives:**\n",
    "- List popular languages for Data Science\n",
    "- List commonly used library for Data Science\n",
    "- Few examples of evaluating arithmetic expressions in Python"
   ]
  },
  {
   "cell_type": "markdown",
   "id": "3f176155-817c-49dd-97fa-e70473a2cb7b",
   "metadata": {
    "tags": []
   },
   "source": [
    "Some of the poplular languages that Data Scientists use are:\n",
    "1. R\n",
    "2. Python\n",
    "3. Julia"
   ]
  },
  {
   "cell_type": "markdown",
   "id": "9529fa0f-f6f6-4117-a5eb-4248eb769983",
   "metadata": {},
   "source": [
    "Some of the commonly used libraries used by Data Scientists include:\n",
    "1. pandas\n",
    "2. numpy\n",
    "3. keras"
   ]
  },
  {
   "cell_type": "markdown",
   "id": "a4858609-834f-4ebb-8bb7-223234ea2742",
   "metadata": {},
   "source": [
    "|Data Science Tools|\n",
    "|------------------|\n",
    "|Seaborn|\n",
    "|matplotlib|\n",
    "|pytorch|"
   ]
  },
  {
   "cell_type": "markdown",
   "id": "edd44281-7426-42d0-80e9-b2f6a273b9d0",
   "metadata": {},
   "source": [
    "### Below are a few examples of evaluating arithmetic expressions in Python\n"
   ]
  },
  {
   "cell_type": "code",
   "execution_count": 10,
   "id": "8743f4cf-61e6-4d84-9c37-8fa8fd6ba64a",
   "metadata": {
    "tags": []
   },
   "outputs": [
    {
     "data": {
      "text/plain": [
       "17"
      ]
     },
     "execution_count": 10,
     "metadata": {},
     "output_type": "execute_result"
    }
   ],
   "source": [
    "#This a simple arithmetic expression to mutiply then add integers\n",
    "(3*4)+5"
   ]
  },
  {
   "cell_type": "code",
   "execution_count": 11,
   "id": "87a5f4e5-ec6c-4c0b-93d5-e9ef4b490f90",
   "metadata": {
    "tags": []
   },
   "outputs": [
    {
     "data": {
      "text/plain": [
       "3.3333333333333335"
      ]
     },
     "execution_count": 11,
     "metadata": {},
     "output_type": "execute_result"
    }
   ],
   "source": [
    "#This will convert 200 minutes to hours by diving by 60\n",
    "200/60"
   ]
  },
  {
   "cell_type": "markdown",
   "id": "98323846-81a2-462b-983d-6573c4570d3b",
   "metadata": {},
   "source": [
    "## Author\n",
    "Vicheara H"
   ]
  },
  {
   "cell_type": "code",
   "execution_count": null,
   "id": "04af1d86-df38-45fb-8431-626028c23425",
   "metadata": {},
   "outputs": [],
   "source": []
  }
 ],
 "metadata": {
  "kernelspec": {
   "display_name": "Python",
   "language": "python",
   "name": "conda-env-python-py"
  },
  "language_info": {
   "codemirror_mode": {
    "name": "ipython",
    "version": 3
   },
   "file_extension": ".py",
   "mimetype": "text/x-python",
   "name": "python",
   "nbconvert_exporter": "python",
   "pygments_lexer": "ipython3",
   "version": "3.7.12"
  }
 },
 "nbformat": 4,
 "nbformat_minor": 5
}
